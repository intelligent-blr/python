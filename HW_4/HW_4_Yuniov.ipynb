{
 "cells": [
  {
   "cell_type": "raw",
   "id": "b4079ed3-fc50-4c08-a027-e367189bf76d",
   "metadata": {},
   "source": [
    "1. Даны формулы: ¬((A ∨ B) ∧ (C ∨ D)) и ((¬A ∧ ¬B) ∨ (¬C ∧ ¬D)). Используя закон Де Моргана, докажите, что эти формулы эквивалентны."
   ]
  },
  {
   "cell_type": "code",
   "execution_count": 1,
   "id": "2e484ab6-c08e-4386-8fb6-f62af728cd3d",
   "metadata": {},
   "outputs": [
    {
     "name": "stdin",
     "output_type": "stream",
     "text": [
      "Введите первое логическое значение (True или False):  true\n",
      "Введите второе логическое значение (True или False):  false\n",
      "Введите третье логическое значение (True или False):  true\n",
      "Введите четвертое логическое значение (True или False):  false\n"
     ]
    },
    {
     "name": "stdout",
     "output_type": "stream",
     "text": [
      "Формулы эквивалентны.\n"
     ]
    }
   ],
   "source": [
    "A = input('Введите первое логическое значение (True или False): ')\n",
    "B = input('Введите второе логическое значение (True или False): ')\n",
    "C = input('Введите третье логическое значение (True или False): ')\n",
    "D = input('Введите четвертое логическое значение (True или False): ')\n",
    "\n",
    "A = A.strip().lower() == 'true'\n",
    "B = B.strip().lower() == 'true'\n",
    "C = C.strip().lower() == 'true'\n",
    "D = D.strip().lower() == 'true'\n",
    "if (not ((A or B) and (C or D))) == ((not A and not B) or (not C and not D)):\n",
    "    print(\"Формулы эквивалентны.\")\n",
    "else:\n",
    "    print(\"Формулы не эквивалентны.\")"
   ]
  },
  {
   "cell_type": "raw",
   "id": "61130396-d973-4809-9721-f8a391a462aa",
   "metadata": {},
   "source": [
    "2. Напишите программу, которая запрашивает у пользователя два логических значения (True или False) и выводит результаты следующих логических операций:\n",
    "- Логическое И (and) между двумя значениями.\n",
    "- Логическое ИЛИ (or) между двумя значениями.\n",
    "- Логическое НЕ (not) для каждого значения.\n",
    "- Результат сравнения двух значений на равенство.\n",
    "- Результат сравнения двух значений на неравенство.\n",
    "Результаты должны быть выведены с помощью команды print.\n",
    "\n",
    "Пример вывода:\n",
    "Введите первое логическое значение (True или False): True\n",
    "Введите второе логическое значение (True или False): False\n",
    "Результат логического И: False\n",
    "Результат логического ИЛИ: True\n",
    "Результат логического НЕ (для первого значения): False\n",
    "Результат логического НЕ (для второго значения): True\n",
    "Результат сравнения на равенство: False"
   ]
  },
  {
   "cell_type": "code",
   "execution_count": 2,
   "id": "30fa6588-fee0-46eb-9d1e-1e9970512d81",
   "metadata": {},
   "outputs": [
    {
     "name": "stdin",
     "output_type": "stream",
     "text": [
      "Введите первое логическое значение (True или False): true\n",
      "Введите второе логическое значение (True или False): false\n"
     ]
    },
    {
     "name": "stdout",
     "output_type": "stream",
     "text": [
      "Результат логического И: False\n",
      "Результат логического ИЛИ: True\n",
      "Результат логического НЕ (для первого значения): False\n",
      "Результат логического НЕ (для второго значения): True\n",
      "Результат сравнения на равенство: False\n",
      "Результат сравнения на неравенство: True\n"
     ]
    }
   ],
   "source": [
    "a = input('Введите первое логическое значение (True или False):')\n",
    "b = input('Введите второе логическое значение (True или False):')\n",
    "a = a.strip().lower() == 'true'\n",
    "b = b.strip().lower() == 'true'\n",
    "print(f'Результат логического И: {a and b}')\n",
    "print(f'Результат логического ИЛИ: {a or b}')\n",
    "print(f'Результат логического НЕ (для первого значения): {not a}')\n",
    "print(f'Результат логического НЕ (для второго значения): {not b}')\n",
    "print(f'Результат сравнения на равенство: {a == b}')\n",
    "print(f'Результат сравнения на неравенство: {a != b}')"
   ]
  }
 ],
 "metadata": {
  "kernelspec": {
   "display_name": "Python 3 (ipykernel)",
   "language": "python",
   "name": "python3"
  },
  "language_info": {
   "codemirror_mode": {
    "name": "ipython",
    "version": 3
   },
   "file_extension": ".py",
   "mimetype": "text/x-python",
   "name": "python",
   "nbconvert_exporter": "python",
   "pygments_lexer": "ipython3",
   "version": "3.12.7"
  }
 },
 "nbformat": 4,
 "nbformat_minor": 5
}
