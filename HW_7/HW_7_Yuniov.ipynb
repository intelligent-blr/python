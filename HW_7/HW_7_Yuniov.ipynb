{
 "cells": [
  {
   "cell_type": "markdown",
   "id": "f16244a6-2c8f-40d6-9ddb-9c4d176a3eb1",
   "metadata": {},
   "source": [
    "```\n",
    "Напишите программу, которая запрашивает у пользователя натуральное десятичное число и выводит его двоичное представление. Реализуйте алгоритм перевода числа в двоичную систему счисления, используя основные концепции представления чисел (подсказка: через деление с остатком). Выведите полученное представление числа на экран.\n",
    "\n",
    "Пример вывода:\n",
    "Введите натуральное десятичное число: 123\n",
    "Двоичное представление числа: 1111011"
   ]
  },
  {
   "cell_type": "code",
   "execution_count": 20,
   "id": "f1755e87-3b6f-4ef9-b49f-ad75fc29aad1",
   "metadata": {},
   "outputs": [
    {
     "name": "stdin",
     "output_type": "stream",
     "text": [
      "Введите натуральное десятичное число:  123\n"
     ]
    },
    {
     "name": "stdout",
     "output_type": "stream",
     "text": [
      "Двоичное представление числа: 1111011\n"
     ]
    }
   ],
   "source": [
    "a = int(input('Введите натуральное десятичное число: '))\n",
    "if a <= 0:\n",
    "    print('Введите натуральное десятичное число больше 0')\n",
    "else:\n",
    "    result_list = []\n",
    "    while a > 0:               # Обрабатываем число до тех пор, пока оно больше 0\n",
    "        b = a % 2\n",
    "        result_list.append(b)  # Добавляем остаток (0 или 1) в список\n",
    "        a = a // 2\n",
    "    result_list.reverse()      # Применяем инструкцию для переворачивания списка\n",
    "    print(f'Двоичное представление числа: {''.join(map(str, result_list))}') \n",
    "# Пустая строка '' означает, что элементы будут объединены без разделителей.\n",
    "# join() объединяет элементы объекта в одну строку. "
   ]
  },
  {
   "cell_type": "markdown",
   "id": "97b48c32-fb14-4f26-8408-3714a448090b",
   "metadata": {},
   "source": [
    "```\n",
    "Напишите программу, принимающую число с плавающей точкой и округляющую его до целого числа в соответствии с правилами школьной математики. Использовать модуль math и методы из него нельзя. Учесть, что программа должна корректно работать с отрицательными числами.\n",
    "\n",
    "Пример вывода:\n",
    "Введите вещественное число: -3.14\n",
    "Округленное значение: -3"
   ]
  },
  {
   "cell_type": "code",
   "execution_count": 42,
   "id": "436f38af-320c-4a2c-9fbd-7796cdfda728",
   "metadata": {},
   "outputs": [
    {
     "name": "stdin",
     "output_type": "stream",
     "text": [
      "Введите вещественное число:  -3.14\n"
     ]
    },
    {
     "name": "stdout",
     "output_type": "stream",
     "text": [
      "-3\n"
     ]
    }
   ],
   "source": [
    "a = float(input('Введите вещественное число: '))\n",
    "if a >= 0:                    # Условие для положительного числа\n",
    "    if int(a + 0.5) > int(a):\n",
    "        print(int(a + 1))\n",
    "    else:\n",
    "        print(int(a))\n",
    "else:                         # Условие для отрицательного числа\n",
    "    if int(a - 0.5) < int(a):\n",
    "        print(int(a - 1))\n",
    "    else:\n",
    "        print(int(a))"
   ]
  },
  {
   "cell_type": "code",
   "execution_count": null,
   "id": "2226ea36-d096-4ad1-a97f-ab21cfabf2b1",
   "metadata": {},
   "outputs": [],
   "source": []
  }
 ],
 "metadata": {
  "kernelspec": {
   "display_name": "Python 3 (ipykernel)",
   "language": "python",
   "name": "python3"
  },
  "language_info": {
   "codemirror_mode": {
    "name": "ipython",
    "version": 3
   },
   "file_extension": ".py",
   "mimetype": "text/x-python",
   "name": "python",
   "nbconvert_exporter": "python",
   "pygments_lexer": "ipython3",
   "version": "3.12.7"
  }
 },
 "nbformat": 4,
 "nbformat_minor": 5
}
