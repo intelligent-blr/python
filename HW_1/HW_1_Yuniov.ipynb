{
 "cells": [
  {
   "cell_type": "code",
   "execution_count": 2,
   "id": "db6d5993-636b-4ba0-a3b2-53471edb16cd",
   "metadata": {},
   "outputs": [
    {
     "data": {
      "text/plain": [
       "2"
      ]
     },
     "execution_count": 2,
     "metadata": {},
     "output_type": "execute_result"
    }
   ],
   "source": [
    "1 + 1"
   ]
  },
  {
   "cell_type": "code",
   "execution_count": 4,
   "id": "8d639253-752a-4ca8-a6ef-7ba7c73ab899",
   "metadata": {},
   "outputs": [
    {
     "name": "stdout",
     "output_type": "stream",
     "text": [
      "Понедельник - Google sheets 1\n",
      "Вторник - Введение 4: Еще немного математики. Код и псевдокод\n",
      "Среда - Python 1: Введение в язык программирования Python\n",
      "Четверг - Datаbase 1: Основные понятия и базовый синтаксис выборки\n"
     ]
    }
   ],
   "source": [
    "print('Понедельник - Google sheets 1')\n",
    "print('Вторник - Введение 4: Еще немного математики. Код и псевдокод')\n",
    "print('Среда - Python 1: Введение в язык программирования Python')\n",
    "print('Четверг - Datаbase 1: Основные понятия и базовый синтаксис выборки')"
   ]
  }
 ],
 "metadata": {
  "kernelspec": {
   "display_name": "Python 3 (ipykernel)",
   "language": "python",
   "name": "python3"
  },
  "language_info": {
   "codemirror_mode": {
    "name": "ipython",
    "version": 3
   },
   "file_extension": ".py",
   "mimetype": "text/x-python",
   "name": "python",
   "nbconvert_exporter": "python",
   "pygments_lexer": "ipython3",
   "version": "3.12.7"
  }
 },
 "nbformat": 4,
 "nbformat_minor": 5
}
