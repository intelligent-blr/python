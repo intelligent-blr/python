{
 "cells": [
  {
   "cell_type": "code",
   "execution_count": 1,
   "id": "b3d5c3f6-c4df-45ea-8864-5197019553c7",
   "metadata": {},
   "outputs": [
    {
     "name": "stdin",
     "output_type": "stream",
     "text": [
      "Введите ваше имя: Александр\n"
     ]
    }
   ],
   "source": [
    "name = input('Введите ваше имя:')"
   ]
  },
  {
   "cell_type": "code",
   "execution_count": 2,
   "id": "51c78ede-af0c-4254-8f94-08d363621c4f",
   "metadata": {},
   "outputs": [
    {
     "name": "stdin",
     "output_type": "stream",
     "text": [
      "Введите ваш возраст: 40\n"
     ]
    }
   ],
   "source": [
    "age = input('Введите ваш возраст:')"
   ]
  },
  {
   "cell_type": "code",
   "execution_count": 3,
   "id": "01c3431c-9669-4077-89b0-abf7f5accec5",
   "metadata": {},
   "outputs": [
    {
     "name": "stdout",
     "output_type": "stream",
     "text": [
      "Привет, Александр! Тебе 40 лет.\n"
     ]
    }
   ],
   "source": [
    "print(f'Привет, {name}! Тебе {age} лет.')"
   ]
  },
  {
   "cell_type": "code",
   "execution_count": 4,
   "id": "a5d44bd8-6666-4305-8ffe-eda8510f22bf",
   "metadata": {},
   "outputs": [
    {
     "name": "stdout",
     "output_type": "stream",
     "text": [
      "Привет, Александр! Тебе 40 лет.\n"
     ]
    }
   ],
   "source": [
    "print('Привет, ' + name + '! Тебе ' + age + ' лет.')"
   ]
  },
  {
   "cell_type": "code",
   "execution_count": null,
   "id": "337ed92f-0633-4b02-8458-33e47c635172",
   "metadata": {},
   "outputs": [],
   "source": []
  }
 ],
 "metadata": {
  "kernelspec": {
   "display_name": "Python 3 (ipykernel)",
   "language": "python",
   "name": "python3"
  },
  "language_info": {
   "codemirror_mode": {
    "name": "ipython",
    "version": 3
   },
   "file_extension": ".py",
   "mimetype": "text/x-python",
   "name": "python",
   "nbconvert_exporter": "python",
   "pygments_lexer": "ipython3",
   "version": "3.12.7"
  }
 },
 "nbformat": 4,
 "nbformat_minor": 5
}
